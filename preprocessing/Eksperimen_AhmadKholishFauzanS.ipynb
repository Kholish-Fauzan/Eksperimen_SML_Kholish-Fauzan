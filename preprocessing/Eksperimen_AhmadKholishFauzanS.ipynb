{
  "cells": [
    {
      "cell_type": "markdown",
      "metadata": {
        "id": "kZLRMFl0JyyQ"
      },
      "source": [
        "# **1. Perkenalan Dataset**\n"
      ]
    },
    {
      "cell_type": "markdown",
      "metadata": {
        "id": "hssSDn-5n3HR"
      },
      "source": [
        "## Dataset: Student Mental Health Analysis\n",
        "\n",
        "Dataset ini diperoleh dari platform [Kaggle](https://www.kaggle.com/datasets/utkarshsharma11r/student-mental-health-analysis) yang berisi informasi kondisi kesehatan mental siswa selama penerapan pembelajaran online seperti Nama, Jenis Kelamin, Usia, Tingkat Pendidikan, Waktu Layar, Durasi Tidur, Aktifitas Fisik, Tingkat Stress, Kekhawatiran Sebelum Ujian, dan Perubahan Performa Akademik.\n",
        "\n",
        "## Tujuan\n",
        "Membangun model machine learning yang dapat memprediksi tingkat kesehatan mental mahasiswa berdasarkan karakteristik siswa.\n",
        "\n",
        "## Deskripsi Fitur\n",
        "| Fitur                        | Deskripsi         |\n",
        "| ---------------------------- |-------------------|\n",
        "|`Name`| Nama depan siswa (tidak esensial untuk analisis, dapat dianonimkan).|\n",
        "|`Gender`| Jenis kelamin responden (Laki-laki/ Perempuan).|\n",
        "|`Age`| Usia dalam tahun.|\n",
        "|`Education Level`| Tingkat pendidikan akademik (contoh: Kelas 8, BTech, MSc).|\n",
        "|`Screen Time` (hrs/day)| Rata-rata waktu penggunaan layar per hari selama pembelajaran daring.|\n",
        "|`Sleep Duration` (hrs)| Rata-rata durasi tidur harian.|\n",
        "|`Physical Activity` (hrs/week)| Waktu yang dihabiskan untuk berolahraga setiap minggu.|\n",
        "|`Stress Level`| Tingkat stres yang dilaporkan (Rendah, Sedang, Tinggi).|\n",
        "|`Anxious Before Exams`| Apakah siswa merasa cemas sebelum ujian (Ya/Tidak).|\n",
        "|`Academic Performance Change`| Penilaian pribadi terhadap perubahan kinerja akademik (misalnya: Meningkat, Menurun, Tetap).|\n",
        "\n",
        "\n",
        "## Tipe Masalah\n",
        "Klasifikasi biner: target hanya memiliki dua kemungkinan nilai yaitu:\n",
        "\n",
        "- 0 = Sehat\n",
        "- 1 = Tidak Sehat\n",
        "\n",
        "## Sumber Dataset\n",
        "Dataset dapat diakses melalui tautan berikut:\n",
        "https://www.kaggle.com/datasets/utkarshsharma11r/student-mental-health-analysis"
      ]
    },
    {
      "cell_type": "markdown",
      "metadata": {
        "id": "fKADPWcFKlj3"
      },
      "source": [
        "# **2. Import Library**"
      ]
    },
    {
      "cell_type": "markdown",
      "metadata": {
        "id": "LgA3ERnVn84N"
      },
      "source": [
        "Pada tahap ini, Anda perlu mengimpor beberapa pustaka (library) Python yang dibutuhkan untuk analisis data dan pembangunan model machine learning atau deep learning."
      ]
    },
    {
      "cell_type": "code",
      "execution_count": null,
      "metadata": {
        "id": "BlmvjLY9M4Yj"
      },
      "outputs": [],
      "source": [
        "# Manipulasi Data\n",
        "import pandas as pd\n",
        "import numpy as np\n",
        "\n",
        "# Visualisasi\n",
        "import matplotlib.pyplot as plt\n",
        "import seaborn as sns\n",
        "\n",
        "# Pra-pemrosesan\n",
        "from sklearn.preprocessing import LabelEncoder, StandardScaler\n",
        "from sklearn.model_selection import train_test_split\n",
        "\n",
        "# Model Machine Learning\n",
        "from sklearn.ensemble import RandomForestClassifier\n",
        "\n",
        "# Model & Evaluasi\n",
        "from imblearn.over_sampling import SMOTE\n",
        "from sklearn.ensemble import RandomForestClassifier\n",
        "from sklearn.metrics import accuracy_score, confusion_matrix, classification_report, precision_score, recall_score, f1_score\n",
        "\n",
        "\n",
        "# Handling imbalance\n",
        "from imblearn.over_sampling import SMOTE\n",
        "from collections import Counter\n",
        "\n",
        "# Utilities\n",
        "import warnings\n",
        "warnings.filterwarnings('ignore')"
      ]
    },
    {
      "cell_type": "markdown",
      "metadata": {
        "id": "f3YIEnAFKrKL"
      },
      "source": [
        "# **3. Memuat Dataset**"
      ]
    },
    {
      "cell_type": "markdown",
      "metadata": {
        "id": "Ey3ItwTen_7E"
      },
      "source": [
        "Pada tahap ini, Anda perlu memuat dataset ke dalam notebook. Jika dataset dalam format CSV, Anda bisa menggunakan pustaka pandas untuk membacanya. Pastikan untuk mengecek beberapa baris awal dataset untuk memahami strukturnya dan memastikan data telah dimuat dengan benar.\n",
        "\n",
        "Jika dataset berada di Google Drive, pastikan Anda menghubungkan Google Drive ke Colab terlebih dahulu. Setelah dataset berhasil dimuat, langkah berikutnya adalah memeriksa kesesuaian data dan siap untuk dianalisis lebih lanjut.\n",
        "\n",
        "Jika dataset berupa unstructured data, silakan sesuaikan dengan format seperti kelas Machine Learning Pengembangan atau Machine Learning Terapan"
      ]
    },
    {
      "cell_type": "code",
      "execution_count": null,
      "metadata": {
        "colab": {
          "base_uri": "https://localhost:8080/"
        },
        "id": "GHCGNTyrM5fS",
        "outputId": "c2972032-facb-4c1f-cd10-b56104eca28c"
      },
      "outputs": [
        {
          "name": "stdout",
          "output_type": "stream",
          "text": [
            "Downloading from https://www.kaggle.com/api/v1/datasets/download/utkarshsharma11r/student-mental-health-analysis?dataset_version_number=1...\n"
          ]
        },
        {
          "name": "stderr",
          "output_type": "stream",
          "text": [
            "100%|██████████| 10.5k/10.5k [00:00<00:00, 3.78MB/s]"
          ]
        },
        {
          "name": "stdout",
          "output_type": "stream",
          "text": [
            "Extracting files...\n",
            "Path to dataset files: /root/.cache/kagglehub/datasets/utkarshsharma11r/student-mental-health-analysis/versions/1\n"
          ]
        },
        {
          "name": "stderr",
          "output_type": "stream",
          "text": [
            "\n"
          ]
        }
      ],
      "source": [
        "import kagglehub\n",
        "\n",
        "# Download latest version\n",
        "path = kagglehub.dataset_download(\"utkarshsharma11r/student-mental-health-analysis\")\n",
        "\n",
        "print(\"Path to dataset files:\", path)"
      ]
    },
    {
      "cell_type": "code",
      "execution_count": null,
      "metadata": {
        "colab": {
          "base_uri": "https://localhost:8080/"
        },
        "id": "CYnEiWOTtw6Z",
        "outputId": "d3d49f7e-7c50-4867-d02b-efd94aa63003"
      },
      "outputs": [
        {
          "data": {
            "text/plain": [
              "['Student Mental Health Analysis During Online Learning.csv']"
            ]
          },
          "execution_count": 3,
          "metadata": {},
          "output_type": "execute_result"
        }
      ],
      "source": [
        "import os\n",
        "\n",
        "data_path = \"/root/.cache/kagglehub/datasets/utkarshsharma11r/student-mental-health-analysis/versions/1\"\n",
        "os.listdir(data_path)"
      ]
    },
    {
      "cell_type": "code",
      "execution_count": null,
      "metadata": {
        "id": "6YZf-F1Ttzvl"
      },
      "outputs": [],
      "source": [
        "df = pd.read_csv(f\"{data_path}/Student Mental Health Analysis During Online Learning.csv\")"
      ]
    },
    {
      "cell_type": "code",
      "execution_count": null,
      "metadata": {
        "colab": {
          "base_uri": "https://localhost:8080/",
          "height": 223
        },
        "id": "o1spAbPXt_Sz",
        "outputId": "73e7b8eb-0f12-4192-e53b-a7c32a21188f"
      },
      "outputs": [
        {
          "data": {
            "application/vnd.google.colaboratory.intrinsic+json": {
              "summary": "{\n  \"name\": \"df\",\n  \"rows\": 1000,\n  \"fields\": [\n    {\n      \"column\": \"Name\",\n      \"properties\": {\n        \"dtype\": \"category\",\n        \"num_unique_values\": 30,\n        \"samples\": [\n          \"Dee\",\n          \"Vihaan\",\n          \"Tanu\"\n        ],\n        \"semantic_type\": \"\",\n        \"description\": \"\"\n      }\n    },\n    {\n      \"column\": \"Gender\",\n      \"properties\": {\n        \"dtype\": \"category\",\n        \"num_unique_values\": 3,\n        \"samples\": [\n          \"Male\",\n          \"Female\",\n          \"Other\"\n        ],\n        \"semantic_type\": \"\",\n        \"description\": \"\"\n      }\n    },\n    {\n      \"column\": \"Age\",\n      \"properties\": {\n        \"dtype\": \"number\",\n        \"std\": 3,\n        \"min\": 15,\n        \"max\": 26,\n        \"num_unique_values\": 12,\n        \"samples\": [\n          26,\n          19,\n          15\n        ],\n        \"semantic_type\": \"\",\n        \"description\": \"\"\n      }\n    },\n    {\n      \"column\": \"Education Level\",\n      \"properties\": {\n        \"dtype\": \"category\",\n        \"num_unique_values\": 11,\n        \"samples\": [\n          \"MTech\",\n          \"Class 8\",\n          \"BSc\"\n        ],\n        \"semantic_type\": \"\",\n        \"description\": \"\"\n      }\n    },\n    {\n      \"column\": \"Screen Time (hrs/day)\",\n      \"properties\": {\n        \"dtype\": \"number\",\n        \"std\": 2.907106228988996,\n        \"min\": 2.0,\n        \"max\": 12.0,\n        \"num_unique_values\": 101,\n        \"samples\": [\n          4.4,\n          9.8,\n          4.3\n        ],\n        \"semantic_type\": \"\",\n        \"description\": \"\"\n      }\n    },\n    {\n      \"column\": \"Sleep Duration (hrs)\",\n      \"properties\": {\n        \"dtype\": \"number\",\n        \"std\": 1.4664070750339793,\n        \"min\": 4.0,\n        \"max\": 9.0,\n        \"num_unique_values\": 51,\n        \"samples\": [\n          5.8,\n          8.7,\n          5.7\n        ],\n        \"semantic_type\": \"\",\n        \"description\": \"\"\n      }\n    },\n    {\n      \"column\": \"Physical Activity (hrs/week)\",\n      \"properties\": {\n        \"dtype\": \"number\",\n        \"std\": 2.930344204552967,\n        \"min\": 0.0,\n        \"max\": 10.0,\n        \"num_unique_values\": 101,\n        \"samples\": [\n          6.6,\n          2.3,\n          6.3\n        ],\n        \"semantic_type\": \"\",\n        \"description\": \"\"\n      }\n    },\n    {\n      \"column\": \"Stress Level\",\n      \"properties\": {\n        \"dtype\": \"category\",\n        \"num_unique_values\": 3,\n        \"samples\": [\n          \"Medium\",\n          \"High\",\n          \"Low\"\n        ],\n        \"semantic_type\": \"\",\n        \"description\": \"\"\n      }\n    },\n    {\n      \"column\": \"Anxious Before Exams\",\n      \"properties\": {\n        \"dtype\": \"category\",\n        \"num_unique_values\": 2,\n        \"samples\": [\n          \"Yes\",\n          \"No\"\n        ],\n        \"semantic_type\": \"\",\n        \"description\": \"\"\n      }\n    },\n    {\n      \"column\": \"Academic Performance Change\",\n      \"properties\": {\n        \"dtype\": \"category\",\n        \"num_unique_values\": 3,\n        \"samples\": [\n          \"Same\",\n          \"Improved\"\n        ],\n        \"semantic_type\": \"\",\n        \"description\": \"\"\n      }\n    }\n  ]\n}",
              "type": "dataframe",
              "variable_name": "df"
            },
            "text/html": [
              "\n",
              "  <div id=\"df-f1b1688a-3745-46ae-985d-770b65eab2b5\" class=\"colab-df-container\">\n",
              "    <div>\n",
              "<style scoped>\n",
              "    .dataframe tbody tr th:only-of-type {\n",
              "        vertical-align: middle;\n",
              "    }\n",
              "\n",
              "    .dataframe tbody tr th {\n",
              "        vertical-align: top;\n",
              "    }\n",
              "\n",
              "    .dataframe thead th {\n",
              "        text-align: right;\n",
              "    }\n",
              "</style>\n",
              "<table border=\"1\" class=\"dataframe\">\n",
              "  <thead>\n",
              "    <tr style=\"text-align: right;\">\n",
              "      <th></th>\n",
              "      <th>Name</th>\n",
              "      <th>Gender</th>\n",
              "      <th>Age</th>\n",
              "      <th>Education Level</th>\n",
              "      <th>Screen Time (hrs/day)</th>\n",
              "      <th>Sleep Duration (hrs)</th>\n",
              "      <th>Physical Activity (hrs/week)</th>\n",
              "      <th>Stress Level</th>\n",
              "      <th>Anxious Before Exams</th>\n",
              "      <th>Academic Performance Change</th>\n",
              "    </tr>\n",
              "  </thead>\n",
              "  <tbody>\n",
              "    <tr>\n",
              "      <th>0</th>\n",
              "      <td>Aarav</td>\n",
              "      <td>Male</td>\n",
              "      <td>15</td>\n",
              "      <td>Class 8</td>\n",
              "      <td>7.1</td>\n",
              "      <td>8.9</td>\n",
              "      <td>9.3</td>\n",
              "      <td>Medium</td>\n",
              "      <td>No</td>\n",
              "      <td>Same</td>\n",
              "    </tr>\n",
              "    <tr>\n",
              "      <th>1</th>\n",
              "      <td>Meera</td>\n",
              "      <td>Female</td>\n",
              "      <td>25</td>\n",
              "      <td>MSc</td>\n",
              "      <td>3.3</td>\n",
              "      <td>5.0</td>\n",
              "      <td>0.2</td>\n",
              "      <td>Medium</td>\n",
              "      <td>No</td>\n",
              "      <td>Same</td>\n",
              "    </tr>\n",
              "    <tr>\n",
              "      <th>2</th>\n",
              "      <td>Ishaan</td>\n",
              "      <td>Male</td>\n",
              "      <td>20</td>\n",
              "      <td>BTech</td>\n",
              "      <td>9.5</td>\n",
              "      <td>5.4</td>\n",
              "      <td>6.2</td>\n",
              "      <td>Medium</td>\n",
              "      <td>No</td>\n",
              "      <td>Same</td>\n",
              "    </tr>\n",
              "    <tr>\n",
              "      <th>3</th>\n",
              "      <td>Aditya</td>\n",
              "      <td>Male</td>\n",
              "      <td>20</td>\n",
              "      <td>BA</td>\n",
              "      <td>10.8</td>\n",
              "      <td>5.6</td>\n",
              "      <td>5.5</td>\n",
              "      <td>High</td>\n",
              "      <td>Yes</td>\n",
              "      <td>Same</td>\n",
              "    </tr>\n",
              "    <tr>\n",
              "      <th>4</th>\n",
              "      <td>Anika</td>\n",
              "      <td>Female</td>\n",
              "      <td>17</td>\n",
              "      <td>Class 11</td>\n",
              "      <td>2.8</td>\n",
              "      <td>5.4</td>\n",
              "      <td>3.1</td>\n",
              "      <td>Medium</td>\n",
              "      <td>Yes</td>\n",
              "      <td>Same</td>\n",
              "    </tr>\n",
              "  </tbody>\n",
              "</table>\n",
              "</div>\n",
              "    <div class=\"colab-df-buttons\">\n",
              "\n",
              "  <div class=\"colab-df-container\">\n",
              "    <button class=\"colab-df-convert\" onclick=\"convertToInteractive('df-f1b1688a-3745-46ae-985d-770b65eab2b5')\"\n",
              "            title=\"Convert this dataframe to an interactive table.\"\n",
              "            style=\"display:none;\">\n",
              "\n",
              "  <svg xmlns=\"http://www.w3.org/2000/svg\" height=\"24px\" viewBox=\"0 -960 960 960\">\n",
              "    <path d=\"M120-120v-720h720v720H120Zm60-500h600v-160H180v160Zm220 220h160v-160H400v160Zm0 220h160v-160H400v160ZM180-400h160v-160H180v160Zm440 0h160v-160H620v160ZM180-180h160v-160H180v160Zm440 0h160v-160H620v160Z\"/>\n",
              "  </svg>\n",
              "    </button>\n",
              "\n",
              "  <style>\n",
              "    .colab-df-container {\n",
              "      display:flex;\n",
              "      gap: 12px;\n",
              "    }\n",
              "\n",
              "    .colab-df-convert {\n",
              "      background-color: #E8F0FE;\n",
              "      border: none;\n",
              "      border-radius: 50%;\n",
              "      cursor: pointer;\n",
              "      display: none;\n",
              "      fill: #1967D2;\n",
              "      height: 32px;\n",
              "      padding: 0 0 0 0;\n",
              "      width: 32px;\n",
              "    }\n",
              "\n",
              "    .colab-df-convert:hover {\n",
              "      background-color: #E2EBFA;\n",
              "      box-shadow: 0px 1px 2px rgba(60, 64, 67, 0.3), 0px 1px 3px 1px rgba(60, 64, 67, 0.15);\n",
              "      fill: #174EA6;\n",
              "    }\n",
              "\n",
              "    .colab-df-buttons div {\n",
              "      margin-bottom: 4px;\n",
              "    }\n",
              "\n",
              "    [theme=dark] .colab-df-convert {\n",
              "      background-color: #3B4455;\n",
              "      fill: #D2E3FC;\n",
              "    }\n",
              "\n",
              "    [theme=dark] .colab-df-convert:hover {\n",
              "      background-color: #434B5C;\n",
              "      box-shadow: 0px 1px 3px 1px rgba(0, 0, 0, 0.15);\n",
              "      filter: drop-shadow(0px 1px 2px rgba(0, 0, 0, 0.3));\n",
              "      fill: #FFFFFF;\n",
              "    }\n",
              "  </style>\n",
              "\n",
              "    <script>\n",
              "      const buttonEl =\n",
              "        document.querySelector('#df-f1b1688a-3745-46ae-985d-770b65eab2b5 button.colab-df-convert');\n",
              "      buttonEl.style.display =\n",
              "        google.colab.kernel.accessAllowed ? 'block' : 'none';\n",
              "\n",
              "      async function convertToInteractive(key) {\n",
              "        const element = document.querySelector('#df-f1b1688a-3745-46ae-985d-770b65eab2b5');\n",
              "        const dataTable =\n",
              "          await google.colab.kernel.invokeFunction('convertToInteractive',\n",
              "                                                    [key], {});\n",
              "        if (!dataTable) return;\n",
              "\n",
              "        const docLinkHtml = 'Like what you see? Visit the ' +\n",
              "          '<a target=\"_blank\" href=https://colab.research.google.com/notebooks/data_table.ipynb>data table notebook</a>'\n",
              "          + ' to learn more about interactive tables.';\n",
              "        element.innerHTML = '';\n",
              "        dataTable['output_type'] = 'display_data';\n",
              "        await google.colab.output.renderOutput(dataTable, element);\n",
              "        const docLink = document.createElement('div');\n",
              "        docLink.innerHTML = docLinkHtml;\n",
              "        element.appendChild(docLink);\n",
              "      }\n",
              "    </script>\n",
              "  </div>\n",
              "\n",
              "\n",
              "    <div id=\"df-c2f83675-83e2-403e-a93f-f971246ec9bc\">\n",
              "      <button class=\"colab-df-quickchart\" onclick=\"quickchart('df-c2f83675-83e2-403e-a93f-f971246ec9bc')\"\n",
              "                title=\"Suggest charts\"\n",
              "                style=\"display:none;\">\n",
              "\n",
              "<svg xmlns=\"http://www.w3.org/2000/svg\" height=\"24px\"viewBox=\"0 0 24 24\"\n",
              "     width=\"24px\">\n",
              "    <g>\n",
              "        <path d=\"M19 3H5c-1.1 0-2 .9-2 2v14c0 1.1.9 2 2 2h14c1.1 0 2-.9 2-2V5c0-1.1-.9-2-2-2zM9 17H7v-7h2v7zm4 0h-2V7h2v10zm4 0h-2v-4h2v4z\"/>\n",
              "    </g>\n",
              "</svg>\n",
              "      </button>\n",
              "\n",
              "<style>\n",
              "  .colab-df-quickchart {\n",
              "      --bg-color: #E8F0FE;\n",
              "      --fill-color: #1967D2;\n",
              "      --hover-bg-color: #E2EBFA;\n",
              "      --hover-fill-color: #174EA6;\n",
              "      --disabled-fill-color: #AAA;\n",
              "      --disabled-bg-color: #DDD;\n",
              "  }\n",
              "\n",
              "  [theme=dark] .colab-df-quickchart {\n",
              "      --bg-color: #3B4455;\n",
              "      --fill-color: #D2E3FC;\n",
              "      --hover-bg-color: #434B5C;\n",
              "      --hover-fill-color: #FFFFFF;\n",
              "      --disabled-bg-color: #3B4455;\n",
              "      --disabled-fill-color: #666;\n",
              "  }\n",
              "\n",
              "  .colab-df-quickchart {\n",
              "    background-color: var(--bg-color);\n",
              "    border: none;\n",
              "    border-radius: 50%;\n",
              "    cursor: pointer;\n",
              "    display: none;\n",
              "    fill: var(--fill-color);\n",
              "    height: 32px;\n",
              "    padding: 0;\n",
              "    width: 32px;\n",
              "  }\n",
              "\n",
              "  .colab-df-quickchart:hover {\n",
              "    background-color: var(--hover-bg-color);\n",
              "    box-shadow: 0 1px 2px rgba(60, 64, 67, 0.3), 0 1px 3px 1px rgba(60, 64, 67, 0.15);\n",
              "    fill: var(--button-hover-fill-color);\n",
              "  }\n",
              "\n",
              "  .colab-df-quickchart-complete:disabled,\n",
              "  .colab-df-quickchart-complete:disabled:hover {\n",
              "    background-color: var(--disabled-bg-color);\n",
              "    fill: var(--disabled-fill-color);\n",
              "    box-shadow: none;\n",
              "  }\n",
              "\n",
              "  .colab-df-spinner {\n",
              "    border: 2px solid var(--fill-color);\n",
              "    border-color: transparent;\n",
              "    border-bottom-color: var(--fill-color);\n",
              "    animation:\n",
              "      spin 1s steps(1) infinite;\n",
              "  }\n",
              "\n",
              "  @keyframes spin {\n",
              "    0% {\n",
              "      border-color: transparent;\n",
              "      border-bottom-color: var(--fill-color);\n",
              "      border-left-color: var(--fill-color);\n",
              "    }\n",
              "    20% {\n",
              "      border-color: transparent;\n",
              "      border-left-color: var(--fill-color);\n",
              "      border-top-color: var(--fill-color);\n",
              "    }\n",
              "    30% {\n",
              "      border-color: transparent;\n",
              "      border-left-color: var(--fill-color);\n",
              "      border-top-color: var(--fill-color);\n",
              "      border-right-color: var(--fill-color);\n",
              "    }\n",
              "    40% {\n",
              "      border-color: transparent;\n",
              "      border-right-color: var(--fill-color);\n",
              "      border-top-color: var(--fill-color);\n",
              "    }\n",
              "    60% {\n",
              "      border-color: transparent;\n",
              "      border-right-color: var(--fill-color);\n",
              "    }\n",
              "    80% {\n",
              "      border-color: transparent;\n",
              "      border-right-color: var(--fill-color);\n",
              "      border-bottom-color: var(--fill-color);\n",
              "    }\n",
              "    90% {\n",
              "      border-color: transparent;\n",
              "      border-bottom-color: var(--fill-color);\n",
              "    }\n",
              "  }\n",
              "</style>\n",
              "\n",
              "      <script>\n",
              "        async function quickchart(key) {\n",
              "          const quickchartButtonEl =\n",
              "            document.querySelector('#' + key + ' button');\n",
              "          quickchartButtonEl.disabled = true;  // To prevent multiple clicks.\n",
              "          quickchartButtonEl.classList.add('colab-df-spinner');\n",
              "          try {\n",
              "            const charts = await google.colab.kernel.invokeFunction(\n",
              "                'suggestCharts', [key], {});\n",
              "          } catch (error) {\n",
              "            console.error('Error during call to suggestCharts:', error);\n",
              "          }\n",
              "          quickchartButtonEl.classList.remove('colab-df-spinner');\n",
              "          quickchartButtonEl.classList.add('colab-df-quickchart-complete');\n",
              "        }\n",
              "        (() => {\n",
              "          let quickchartButtonEl =\n",
              "            document.querySelector('#df-c2f83675-83e2-403e-a93f-f971246ec9bc button');\n",
              "          quickchartButtonEl.style.display =\n",
              "            google.colab.kernel.accessAllowed ? 'block' : 'none';\n",
              "        })();\n",
              "      </script>\n",
              "    </div>\n",
              "\n",
              "    </div>\n",
              "  </div>\n"
            ],
            "text/plain": [
              "     Name  Gender  Age Education Level  Screen Time (hrs/day)  \\\n",
              "0   Aarav    Male   15         Class 8                    7.1   \n",
              "1   Meera  Female   25             MSc                    3.3   \n",
              "2  Ishaan    Male   20           BTech                    9.5   \n",
              "3  Aditya    Male   20              BA                   10.8   \n",
              "4   Anika  Female   17        Class 11                    2.8   \n",
              "\n",
              "   Sleep Duration (hrs)  Physical Activity (hrs/week) Stress Level  \\\n",
              "0                   8.9                           9.3       Medium   \n",
              "1                   5.0                           0.2       Medium   \n",
              "2                   5.4                           6.2       Medium   \n",
              "3                   5.6                           5.5         High   \n",
              "4                   5.4                           3.1       Medium   \n",
              "\n",
              "  Anxious Before Exams Academic Performance Change  \n",
              "0                   No                        Same  \n",
              "1                   No                        Same  \n",
              "2                   No                        Same  \n",
              "3                  Yes                        Same  \n",
              "4                  Yes                        Same  "
            ]
          },
          "execution_count": 5,
          "metadata": {},
          "output_type": "execute_result"
        }
      ],
      "source": [
        "# Tampilkan beberapa baris pertama\n",
        "df.head()"
      ]
    },
    {
      "cell_type": "markdown",
      "metadata": {
        "id": "bgZkbJLpK9UR"
      },
      "source": [
        "# **4. Exploratory Data Analysis (EDA)**\n",
        "\n",
        "Pada tahap ini, Anda akan melakukan **Exploratory Data Analysis (EDA)** untuk memahami karakteristik dataset.\n",
        "\n",
        "Tujuan dari EDA adalah untuk memperoleh wawasan awal yang mendalam mengenai data dan menentukan langkah selanjutnya dalam analisis atau pemodelan.\n",
        "\n",
        "\n",
        "Pada tahap ini, dilakukan pengecekan struktur dataset menggunakan fungsi `df.info()`.\n",
        "Tujuannya adalah untuk memahami jumlah entri, tipe data setiap kolom, dan apakah terdapat missing value.\n",
        "\n",
        "Hasil pengecekan Dataset:\n",
        "\n",
        "- Dataset memiliki 1000 entri dan 10 kolom.\n",
        "- Tidak ditemukan missing value dan duplikasi data pada setiap kolom (semua kolom memiliki 1000 non-null).\n",
        "- Tipe data setiap kolom:\n",
        "  - Name, Gender, Education Level, Stress Level, Anxious Before Exam, Academic Performance Change ➔ object\n",
        "  - Screen Time, Sleep Duration, Physical Activity ➔ float64 (kategori/teks)\n",
        "  - Age ➔ int64\n"
      ]
    },
    {
      "cell_type": "code",
      "execution_count": null,
      "metadata": {
        "colab": {
          "base_uri": "https://localhost:8080/"
        },
        "id": "F-AvpOAbt8Mh",
        "outputId": "d4480cfd-048e-4477-ca2f-c58c441a8898"
      },
      "outputs": [
        {
          "name": "stdout",
          "output_type": "stream",
          "text": [
            "Ukuran dataset: (1000, 10)\n",
            "<class 'pandas.core.frame.DataFrame'>\n",
            "RangeIndex: 1000 entries, 0 to 999\n",
            "Data columns (total 10 columns):\n",
            " #   Column                        Non-Null Count  Dtype  \n",
            "---  ------                        --------------  -----  \n",
            " 0   Name                          1000 non-null   object \n",
            " 1   Gender                        1000 non-null   object \n",
            " 2   Age                           1000 non-null   int64  \n",
            " 3   Education Level               1000 non-null   object \n",
            " 4   Screen Time (hrs/day)         1000 non-null   float64\n",
            " 5   Sleep Duration (hrs)          1000 non-null   float64\n",
            " 6   Physical Activity (hrs/week)  1000 non-null   float64\n",
            " 7   Stress Level                  1000 non-null   object \n",
            " 8   Anxious Before Exams          1000 non-null   object \n",
            " 9   Academic Performance Change   1000 non-null   object \n",
            "dtypes: float64(3), int64(1), object(6)\n",
            "memory usage: 78.3+ KB\n"
          ]
        }
      ],
      "source": [
        "# Dimensi data\n",
        "print(\"Ukuran dataset:\", df.shape)\n",
        "\n",
        "# Informasi kolom dan tipe data\n",
        "df.info()"
      ]
    },
    {
      "cell_type": "code",
      "execution_count": null,
      "metadata": {
        "colab": {
          "base_uri": "https://localhost:8080/",
          "height": 397
        },
        "id": "2k0oawSXuPD4",
        "outputId": "33f23874-cd02-4b08-ba9c-a7037ed91224"
      },
      "outputs": [
        {
          "data": {
            "text/html": [
              "<div>\n",
              "<style scoped>\n",
              "    .dataframe tbody tr th:only-of-type {\n",
              "        vertical-align: middle;\n",
              "    }\n",
              "\n",
              "    .dataframe tbody tr th {\n",
              "        vertical-align: top;\n",
              "    }\n",
              "\n",
              "    .dataframe thead th {\n",
              "        text-align: right;\n",
              "    }\n",
              "</style>\n",
              "<table border=\"1\" class=\"dataframe\">\n",
              "  <thead>\n",
              "    <tr style=\"text-align: right;\">\n",
              "      <th></th>\n",
              "      <th>0</th>\n",
              "    </tr>\n",
              "  </thead>\n",
              "  <tbody>\n",
              "    <tr>\n",
              "      <th>Name</th>\n",
              "      <td>0</td>\n",
              "    </tr>\n",
              "    <tr>\n",
              "      <th>Gender</th>\n",
              "      <td>0</td>\n",
              "    </tr>\n",
              "    <tr>\n",
              "      <th>Age</th>\n",
              "      <td>0</td>\n",
              "    </tr>\n",
              "    <tr>\n",
              "      <th>Education Level</th>\n",
              "      <td>0</td>\n",
              "    </tr>\n",
              "    <tr>\n",
              "      <th>Screen Time (hrs/day)</th>\n",
              "      <td>0</td>\n",
              "    </tr>\n",
              "    <tr>\n",
              "      <th>Sleep Duration (hrs)</th>\n",
              "      <td>0</td>\n",
              "    </tr>\n",
              "    <tr>\n",
              "      <th>Physical Activity (hrs/week)</th>\n",
              "      <td>0</td>\n",
              "    </tr>\n",
              "    <tr>\n",
              "      <th>Stress Level</th>\n",
              "      <td>0</td>\n",
              "    </tr>\n",
              "    <tr>\n",
              "      <th>Anxious Before Exams</th>\n",
              "      <td>0</td>\n",
              "    </tr>\n",
              "    <tr>\n",
              "      <th>Academic Performance Change</th>\n",
              "      <td>0</td>\n",
              "    </tr>\n",
              "  </tbody>\n",
              "</table>\n",
              "</div><br><label><b>dtype:</b> int64</label>"
            ],
            "text/plain": [
              "Name                            0\n",
              "Gender                          0\n",
              "Age                             0\n",
              "Education Level                 0\n",
              "Screen Time (hrs/day)           0\n",
              "Sleep Duration (hrs)            0\n",
              "Physical Activity (hrs/week)    0\n",
              "Stress Level                    0\n",
              "Anxious Before Exams            0\n",
              "Academic Performance Change     0\n",
              "dtype: int64"
            ]
          },
          "execution_count": 7,
          "metadata": {},
          "output_type": "execute_result"
        }
      ],
      "source": [
        "# Cek nilai yang hilang\n",
        "df.isnull().sum()"
      ]
    },
    {
      "cell_type": "code",
      "execution_count": null,
      "metadata": {
        "colab": {
          "base_uri": "https://localhost:8080/"
        },
        "id": "abw4pjzUyo6r",
        "outputId": "be8e6e8b-014f-4a7e-eb24-52972d3b500e"
      },
      "outputs": [
        {
          "data": {
            "text/plain": [
              "np.int64(0)"
            ]
          },
          "execution_count": 8,
          "metadata": {},
          "output_type": "execute_result"
        }
      ],
      "source": [
        "# Cek Nilai yang terduplikasi\n",
        "df.duplicated().sum()"
      ]
    },
    {
      "cell_type": "markdown",
      "metadata": {
        "id": "y-ffLcznudGv"
      },
      "source": [
        "Karena kolom `Name` merupakan data yang tidak menyerupai suatu pola, maka kolom tersebut akan dihapus."
      ]
    },
    {
      "cell_type": "code",
      "execution_count": null,
      "metadata": {
        "id": "dKeejtvxM6X1"
      },
      "outputs": [],
      "source": [
        "df.drop('Name', axis=1, inplace=True)"
      ]
    },
    {
      "cell_type": "markdown",
      "metadata": {
        "id": "UUDtsbp1y8dh"
      },
      "source": [
        "### Distribusi Fitur Kategorikal"
      ]
    },
    {
      "cell_type": "code",
      "execution_count": null,
      "metadata": {
        "colab": {
          "base_uri": "https://localhost:8080/",
          "height": 1000
        },
        "id": "8MZD3MPVu5Ye",
        "outputId": "fcb4b35b-46e4-4099-b065-def56ecbf379"
      },
      "outputs": [
        {
          "data": {
            "image/png": "[encoded data removed]",
            "text/plain": [
              "<Figure size 600x300 with 1 Axes>"
            ]
          },
          "metadata": {},
          "output_type": "display_data"
        },
        {
          "data": {
            "image/png": "[encoded data removed]",
            "text/plain": [
              "<Figure size 600x300 with 1 Axes>"
            ]
          },
          "metadata": {},
          "output_type": "display_data"
        },
        {
          "data": {
            "image/png": "[encoded data removed]",
            "text/plain": [
              "<Figure size 600x300 with 1 Axes>"
            ]
          },
          "metadata": {},
          "output_type": "display_data"
        },
        {
          "data": {
            "image/png": "[encoded data removed]",
            "text/plain": [
              "<Figure size 600x300 with 1 Axes>"
            ]
          },
          "metadata": {},
          "output_type": "display_data"
        },
        {
          "data": {
            "image/png": "[encoded data removed]",
            "text/plain": [
              "<Figure size 600x300 with 1 Axes>"
            ]
          },
          "metadata": {},
          "output_type": "display_data"
        }
      ],
      "source": [
        "categorical_cols = ['Gender', 'Education Level', 'Stress Level', 'Anxious Before Exams', 'Academic Performance Change']\n",
        "\n",
        "for col in categorical_cols:\n",
        "    plt.figure(figsize=(6,3))\n",
        "    sns.countplot(data=df, x=col, palette='Set2', order=df[col].value_counts().index)\n",
        "    plt.title(f'Distribusi {col}')\n",
        "    plt.xticks(rotation=30)\n",
        "    plt.show()"
      ]
    },
    {
      "cell_type": "markdown",
      "metadata": {
        "id": "mBieGcvf0pOT"
      },
      "source": [
        "Pada hasil pengecekan data kategori, ditemukan beberapa insights sebagai berikut:\n",
        "- Terdapat sedikit ketidaksesuaian data pada fitur `Gender` sehinngga teridentifikasi sebagai other. Padahal `Gender` hanya akan merepresentasikan Laki-laki dan Perempuan.\n",
        "- Tingkat distribusi pada fitur `Education Level` dan `Stress Level` cukup variatif.\n",
        "- Fitur `Anxious Before Exams` memiliki distribusi data yang hampir seimbang.\n",
        "- Fitur `Academic Performance Change` didominasi oleh kategori `Same` namun juga seimbang antara `Improved` dan `Declined`, sehingga persebaran tingkat performa siswa dapat dikatakan cukup bervariasi."
      ]
    },
    {
      "cell_type": "markdown",
      "metadata": {
        "id": "s0P1rrSPzJ3O"
      },
      "source": [
        "### Boxplot Fitur Numerik"
      ]
    },
    {
      "cell_type": "code",
      "execution_count": null,
      "metadata": {
        "colab": {
          "base_uri": "https://localhost:8080/",
          "height": 1000
        },
        "id": "pQtUvKv2zJLa",
        "outputId": "6749ce20-423a-48bd-9f1c-267e993e9e55"
      },
      "outputs": [
        {
          "data": {
            "image/png": "[encoded data removed]",
            "text/plain": [
              "<Figure size 600x300 with 1 Axes>"
            ]
          },
          "metadata": {},
          "output_type": "display_data"
        },
        {
          "data": {
            "image/png": "[encoded data removed]",
            "text/plain": [
              "<Figure size 600x300 with 1 Axes>"
            ]
          },
          "metadata": {},
          "output_type": "display_data"
        },
        {
          "data": {
            "image/png": "[encoded data removed]",
            "text/plain": [
              "<Figure size 600x300 with 1 Axes>"
            ]
          },
          "metadata": {},
          "output_type": "display_data"
        },
        {
          "data": {
            "image/png": "[encoded data removed]",
            "text/plain": [
              "<Figure size 600x300 with 1 Axes>"
            ]
          },
          "metadata": {},
          "output_type": "display_data"
        }
      ],
      "source": [
        "numerical_cols = ['Age', 'Screen Time (hrs/day)', 'Sleep Duration (hrs)', 'Physical Activity (hrs/week)']\n",
        "\n",
        "for col in numerical_cols:\n",
        "    plt.figure(figsize=(6,3))\n",
        "    sns.boxplot(data=df, x=col, color='skyblue')\n",
        "    plt.title(f'Boxplot {col}')\n",
        "    plt.show()"
      ]
    },
    {
      "cell_type": "markdown",
      "metadata": {
        "id": "vjYWPWxH2aeN"
      },
      "source": [
        "Berdasarkan hasil distribusi kolom numerik di atas, fitur-fitur di atas tidak memliki nilai outlier dan berada pada rentang yang wajar. Sehingga siap untuk diolah."
      ]
    },
    {
      "cell_type": "markdown",
      "metadata": {
        "id": "cpgHfgnSK3ip"
      },
      "source": [
        "# **5. Data Preprocessing**"
      ]
    },
    {
      "cell_type": "markdown",
      "metadata": {
        "id": "COf8KUPXLg5r"
      },
      "source": [
        "Pada tahap ini, data preprocessing adalah langkah penting untuk memastikan kualitas data sebelum digunakan dalam model machine learning.\n",
        "\n",
        "Jika Anda menggunakan data teks, data mentah sering kali mengandung nilai kosong, duplikasi, atau rentang nilai yang tidak konsisten, yang dapat memengaruhi kinerja model. Oleh karena itu, proses ini bertujuan untuk membersihkan dan mempersiapkan data agar analisis berjalan optimal.\n",
        "\n",
        "Berikut adalah tahapan-tahapan yang bisa dilakukan, tetapi **tidak terbatas** pada:\n",
        "1. Menghapus atau Menangani Data Kosong (Missing Values)\n",
        "2. Menghapus Data Duplikat\n",
        "3. Normalisasi atau Standarisasi Fitur\n",
        "4. Deteksi dan Penanganan Outlier\n",
        "5. Encoding Data Kategorikal\n",
        "6. Binning (Pengelompokan Data)\n",
        "\n",
        "Cukup sesuaikan dengan karakteristik data yang kamu gunakan yah. Khususnya ketika kamu menggunakan data tidak terstruktur."
      ]
    },
    {
      "cell_type": "markdown",
      "metadata": {
        "id": "yD10JPVT9jzw"
      },
      "source": [
        "Pada hasil EDA di atas, bahwa fitur `Gender` memiliki nilai Other yang tidak cocok, maka mari kita cek data tersebut."
      ]
    },
    {
      "cell_type": "code",
      "execution_count": null,
      "metadata": {
        "colab": {
          "base_uri": "https://localhost:8080/",
          "height": 209
        },
        "id": "Og8pGV0-iDLz",
        "outputId": "9d4c35af-d5fa-4138-b7c9-5618506b2bf8"
      },
      "outputs": [
        {
          "data": {
            "text/html": [
              "<div>\n",
              "<style scoped>\n",
              "    .dataframe tbody tr th:only-of-type {\n",
              "        vertical-align: middle;\n",
              "    }\n",
              "\n",
              "    .dataframe tbody tr th {\n",
              "        vertical-align: top;\n",
              "    }\n",
              "\n",
              "    .dataframe thead th {\n",
              "        text-align: right;\n",
              "    }\n",
              "</style>\n",
              "<table border=\"1\" class=\"dataframe\">\n",
              "  <thead>\n",
              "    <tr style=\"text-align: right;\">\n",
              "      <th></th>\n",
              "      <th>count</th>\n",
              "    </tr>\n",
              "    <tr>\n",
              "      <th>Gender</th>\n",
              "      <th></th>\n",
              "    </tr>\n",
              "  </thead>\n",
              "  <tbody>\n",
              "    <tr>\n",
              "      <th>Male</th>\n",
              "      <td>475</td>\n",
              "    </tr>\n",
              "    <tr>\n",
              "      <th>Female</th>\n",
              "      <td>475</td>\n",
              "    </tr>\n",
              "    <tr>\n",
              "      <th>Other</th>\n",
              "      <td>50</td>\n",
              "    </tr>\n",
              "  </tbody>\n",
              "</table>\n",
              "</div><br><label><b>dtype:</b> int64</label>"
            ],
            "text/plain": [
              "Gender\n",
              "Male      475\n",
              "Female    475\n",
              "Other      50\n",
              "Name: count, dtype: int64"
            ]
          },
          "execution_count": 12,
          "metadata": {},
          "output_type": "execute_result"
        }
      ],
      "source": [
        "df['Gender'].value_counts()"
      ]
    },
    {
      "cell_type": "markdown",
      "metadata": {
        "id": "AipfN13n-Eos"
      },
      "source": [
        "Karena kategori Other pada fitur `Gender` berjumlah 50 yakni hanya 5% dari data, maka dapat didrop saja demi menghindari overfitting ke kategori minoritas yang tidak representatif."
      ]
    },
    {
      "cell_type": "code",
      "execution_count": null,
      "metadata": {
        "id": "SkN58OvY-SFR"
      },
      "outputs": [],
      "source": [
        "df = df[df['Gender'].isin(['Male', 'Female'])]"
      ]
    },
    {
      "cell_type": "markdown",
      "metadata": {
        "id": "ok39wyPWSjyd"
      },
      "source": [
        "Selanjutnya, untuk menentukan kondisi kesehatan mental awal, maka akan kondisi akan mengambil nilainya dari fitur `Stress Level`."
      ]
    },
    {
      "cell_type": "code",
      "execution_count": null,
      "metadata": {
        "id": "sSY9WQ3x_5GF"
      },
      "outputs": [],
      "source": [
        "# Membuat kolom target Mental_Health_Status\n",
        "df['MH_from_stress'] = df['Stress Level'].map({\n",
        "    'Low': 0,         # Sehat\n",
        "    'Medium': 1,      # Tidak Sehat\n",
        "    'High': 1         # Tidak Sehat\n",
        "})"
      ]
    },
    {
      "cell_type": "markdown",
      "metadata": {
        "id": "Fz7Aw5SQS0uw"
      },
      "source": [
        "Setelah mencoba melakukan pemodelan random forest awal secara mandiri, sistem prediksi yang mengacu hanya pada nilai fitur `Stress Level` hanya menghasilkan nilai akurasi sekitar 63%. Sehingga perlu adanya fitur-fitur lain yang juga turut berpengaruh dalam menghasilkan tingkat akurasi yang lebih tinggi.\n",
        "\n",
        "Saat melakukan random forest awal, saya juga melakukan features importance dan diketahui bahwa terdapat fitur-fitur numerik yang sangat berpengaruh terhadap prediksi kesehatan mental. Berikut hasil feature importance yang saya lakukan secara mandiri sebelumnya.\n",
        "\n",
        "|   | Feature                        |   Importance |\n",
        "|---|--------------------------------|--------------|\n",
        "| 1 | Screen Time (hrs/day)          |     0.214964 |\n",
        "| 3 | Physical Activity (hrs/week)   |     0.209128 |\n",
        "| 2 | Sleep Duration (hrs)           |     0.199483 |\n",
        "| 0 | Age                            |     0.108859 |\n",
        "| 15| Anxious Before Exams\\_Yes       |     0.041061 |\n",
        "| 4 | Gender\\_Male                   |     0.036271 |\n",
        "| 17| Academic Performance Change\\_Same |     0.032572 |\n",
        "| 16| Academic Performance Change\\_Improved |     0.029390 |\n",
        "| 12| Education Level\\_MA            |     0.016618 |\n",
        "| 13| Education Level\\_MSc           |     0.015191 |\n",
        "\n",
        "**Kode untuk features importance ini saya hapus untuk notebook yang lebih rapi dan mudah dipahami.*"
      ]
    },
    {
      "cell_type": "markdown",
      "metadata": {
        "id": "_B-feEwHUhYr"
      },
      "source": [
        "Dari hasil di atas dapat diketahui bahwa terdapat 4 fitur numerik lain yang akan sangat mempengaruhi prediksi model secara signifikan dengan total lebih dari 50% importance level. Fitur tersbut adalah `Screen Time`, `Physical Activity`, `Sleep Duration`, dan `Age`."
      ]
    },
    {
      "cell_type": "markdown",
      "metadata": {
        "id": "FkfgDzQzVQZ7"
      },
      "source": [
        "Untuk memperbarui penetapan target selain menggunakan `Stress Level`, maka perlu diketahui keterkaitan antara `MH_from_stress` dengan keempat variabel di atas melalui pengecekan statistik deskriptif. Hal ini dilakukan agar dapat diketahui nanti pembuatan nilai ambang batasnya."
      ]
    },
    {
      "cell_type": "code",
      "execution_count": null,
      "metadata": {
        "colab": {
          "base_uri": "https://localhost:8080/"
        },
        "id": "VmAKgQsz_1Bf",
        "outputId": "90040733-0bad-4b57-9f03-f223c3dee20b"
      },
      "outputs": [
        {
          "name": "stdout",
          "output_type": "stream",
          "text": [
            "Statistik deskriptif 'Screen Time (hrs/day)' berdasarkan MH_from_stress:\n",
            "                count      mean       std  min  25%  50%    75%   max\n",
            "MH_from_stress                                                       \n",
            "0               312.0  6.928205  2.889371  2.0  4.5  7.0  9.325  12.0\n",
            "1               638.0  6.933386  2.938554  2.0  4.4  7.0  9.600  12.0\n",
            "\n",
            "----------------------------------------\n",
            "\n",
            "Statistik deskriptif 'Sleep Duration (hrs)' berdasarkan MH_from_stress:\n",
            "                count      mean       std  min    25%  50%    75%  max\n",
            "MH_from_stress                                                        \n",
            "0               312.0  6.516667  1.483579  4.0  5.175  6.7  7.725  9.0\n",
            "1               638.0  6.409561  1.468899  4.0  5.100  6.4  7.700  9.0\n",
            "\n",
            "----------------------------------------\n",
            "\n",
            "Statistik deskriptif 'Physical Activity (hrs/week)' berdasarkan MH_from_stress:\n",
            "                count      mean       std  min    25%   50%  75%   max\n",
            "MH_from_stress                                                        \n",
            "0               312.0  4.785897  2.978442  0.0  2.375  4.55  7.4   9.9\n",
            "1               638.0  5.122100  2.918807  0.0  2.700  5.10  7.6  10.0\n",
            "\n",
            "----------------------------------------\n",
            "\n"
          ]
        }
      ],
      "source": [
        "# Statistik deskriptif untuk insight ambang batas\n",
        "print(\"Statistik deskriptif 'Screen Time (hrs/day)' berdasarkan MH_from_stress:\")\n",
        "print(df.groupby('MH_from_stress')['Screen Time (hrs/day)'].describe())\n",
        "print(\"\\n\" + \"-\"*40 + \"\\n\")\n",
        "\n",
        "print(\"Statistik deskriptif 'Sleep Duration (hrs)' berdasarkan MH_from_stress:\")\n",
        "print(df.groupby('MH_from_stress')['Sleep Duration (hrs)'].describe())\n",
        "print(\"\\n\" + \"-\"*40 + \"\\n\")\n",
        "\n",
        "print(\"Statistik deskriptif 'Physical Activity (hrs/week)' berdasarkan MH_from_stress:\")\n",
        "print(df.groupby('MH_from_stress')['Physical Activity (hrs/week)'].describe())\n",
        "print(\"\\n\" + \"-\"*40 + \"\\n\")"
      ]
    },
    {
      "cell_type": "code",
      "execution_count": null,
      "metadata": {
        "id": "TzqdWhgRByJZ"
      },
      "outputs": [],
      "source": [
        "# Membuat bin umur\n",
        "bins = [14, 18, 22, 26, 30]\n",
        "labels = ['15-18', '19-22', '23-26', '27-30']\n",
        "df['Age_binned'] = pd.cut(df['Age'], bins=bins, labels=labels, right=True)"
      ]
    },
    {
      "cell_type": "code",
      "execution_count": null,
      "metadata": {
        "colab": {
          "base_uri": "https://localhost:8080/"
        },
        "id": "c40IzyqMC1q9",
        "outputId": "0b98ac60-27c8-4c51-edbd-a240ec9bace3"
      },
      "outputs": [
        {
          "name": "stdout",
          "output_type": "stream",
          "text": [
            "Age_binned      15-18  19-22  23-26  27-30\n",
            "MH_from_stress                            \n",
            "0                 113     95    104      0\n",
            "1                 212    221    205      0\n"
          ]
        }
      ],
      "source": [
        "age_dist = df.groupby(['MH_from_stress', 'Age_binned']).size().unstack(fill_value=0)\n",
        "print(age_dist)"
      ]
    },
    {
      "cell_type": "markdown",
      "metadata": {
        "id": "5eRMVsm7V_vC"
      },
      "source": [
        "Berdasarkan hasil pengecekan deskriptif dan distribusi di atas, berikut insights yang didapat:\n",
        "\n",
        "| Fitur                      | Threshold         | Alasan                      |\n",
        "|----------------------------|-------------------|---------------------------  |\n",
        "| Screen Time (hrs/day)      | ≤ 9.0             | Karena kuartil ketiga (Q3) untuk kelas 0 adalah 9.325, dan untuk kelas 1 adalah 9.6.                                                 |\n",
        "| Sleep Duration (hrs)       | ≥ 6.4             | Karena nilai median untuk kedua kelas (0 dan 1) berada dalam rentang 6.4–6.7.                                                         |\n",
        "| Physical Activity (hrs/week)| ≥ 4.5             | Karena nilai median untuk kedua kelas (0 dan 1) berada dalam rentang 4.55–5.10.                                                        |\n",
        "| Age                        | 19–26 (dua bin tengah) | Karena distribusi label 1 (kemungkinan mengacu pada status mental health tertentu) paling banyak terdapat pada rentang umur 19–26. |"
      ]
    },
    {
      "cell_type": "markdown",
      "metadata": {
        "id": "PVIpwuWyGGrf"
      },
      "source": [
        "Berdasarkan insights tersebut, mari kita tentukan Status Mental Health kembali.\n",
        "\n"
      ]
    },
    {
      "cell_type": "code",
      "execution_count": null,
      "metadata": {
        "id": "7PZK0tclGGOP"
      },
      "outputs": [],
      "source": [
        "# Membuat kolom Mental_Health_Status akhir berdasarkan 4 indikator\n",
        "def determine_mental_health(row):\n",
        "    screen_time_ok = row['Screen Time (hrs/day)'] <= 9.0\n",
        "    sleep_ok = row['Sleep Duration (hrs)'] >= 6.4\n",
        "    activity_ok = row['Physical Activity (hrs/week)'] >= 4.5\n",
        "    age_ok = row['Age_binned'] in ['19-22', '23-26']\n",
        "\n",
        "    conditions_met = sum([screen_time_ok, sleep_ok, activity_ok, age_ok])\n",
        "    return 1 if conditions_met >= 3 else 0\n",
        "\n",
        "df['MH_final'] = df.apply(determine_mental_health, axis=1)"
      ]
    },
    {
      "cell_type": "code",
      "execution_count": null,
      "metadata": {
        "colab": {
          "base_uri": "https://localhost:8080/"
        },
        "id": "-AymXBYrGMM8",
        "outputId": "e2eda106-382d-47a2-acf3-5cfd34b60549"
      },
      "outputs": [
        {
          "name": "stdout",
          "output_type": "stream",
          "text": [
            "\n",
            "Distribusi target (MH_final):\n",
            "MH_final\n",
            "0    490\n",
            "1    460\n",
            "Name: count, dtype: int64\n",
            "MH_final\n",
            "0    0.515789\n",
            "1    0.484211\n",
            "Name: proportion, dtype: float64\n"
          ]
        }
      ],
      "source": [
        "# Lihat distribusi target hasil akhir\n",
        "print(\"\\nDistribusi target (MH_final):\")\n",
        "print(df['MH_final'].value_counts())\n",
        "print(df['MH_final'].value_counts(normalize=True))"
      ]
    },
    {
      "cell_type": "markdown",
      "metadata": {
        "id": "h6PqP2FNPFfd"
      },
      "source": [
        "Dari hasil penentuan kembali status di atas, maka distribusi Mental Health akhir (`MH_final`) sudah lebih seimbang, tidak ada data imbalance yang sangat menonjol."
      ]
    },
    {
      "cell_type": "markdown",
      "metadata": {
        "id": "VIVQfvZbY3lQ"
      },
      "source": [
        "Agar dapat dicoba pada pemodelan, maka ditentukan lagi Target dan Fiturnya."
      ]
    },
    {
      "cell_type": "code",
      "execution_count": null,
      "metadata": {
        "id": "AS9p8FtbPFyB"
      },
      "outputs": [],
      "source": [
        "# Target\n",
        "y = df['MH_final']\n",
        "\n",
        "# Fitur terpilih (numerik dan kategorikal)\n",
        "X = df[['Gender', 'Education Level', 'Anxious Before Exams', 'Academic Performance Change',\n",
        "        'Screen Time (hrs/day)', 'Sleep Duration (hrs)', 'Physical Activity (hrs/week)', 'Age_binned']]"
      ]
    },
    {
      "cell_type": "markdown",
      "metadata": {
        "id": "_6xjRzfBZSDl"
      },
      "source": [
        "Selanjutnya melakukan pemisahan fitur berdasarkan jenisnya. Di sini saya memisahkan fitur berdasarkan 2 jenis, antara lain:\n",
        "1. `categorical_cols`: Kolom dengan nilai kategori (teks atau label).\n",
        "2. `numerical_cols`: Kolom dengan nilai numerik yang akan distandarisasi.\n",
        "\n",
        "Langkah ini penting untuk memudahkan proses encoding dan scaling yang berbeda penanganannya."
      ]
    },
    {
      "cell_type": "code",
      "execution_count": null,
      "metadata": {
        "id": "tLaGYkRKPIco"
      },
      "outputs": [],
      "source": [
        "# Kolom kategorikal\n",
        "categorical_cols = ['Gender', 'Education Level', 'Anxious Before Exams', 'Academic Performance Change', 'Age_binned']\n",
        "\n",
        "# Kolom numerik\n",
        "numerical_cols = ['Screen Time (hrs/day)', 'Sleep Duration (hrs)', 'Physical Activity (hrs/week)']"
      ]
    },
    {
      "cell_type": "markdown",
      "metadata": {
        "id": "_56qNgfNaPY2"
      },
      "source": [
        "Selanjutnya adalah membangun Pipeline untuk pada data Encoded dan Standardized.\n",
        "\n",
        "Menggunakan ColumnTransformer untuk:\n",
        "1. OneHotEncoder: Mengubah kolom kategorikal menjadi dummy variables (kolom biner 0/1).\n",
        "2. StandardScaler: Melakukan standardisasi (mean=0, std=1) terhadap kolom numerik agar skala fitur seragam.\n",
        "\n",
        "`handle_unknown='ignore'`: Menangani kategori baru yang tidak ditemukan saat training."
      ]
    },
    {
      "cell_type": "code",
      "execution_count": null,
      "metadata": {
        "id": "Dk8rTsIsPL02"
      },
      "outputs": [],
      "source": [
        "from sklearn.preprocessing import OneHotEncoder, StandardScaler\n",
        "from sklearn.compose import ColumnTransformer\n",
        "from sklearn.pipeline import Pipeline\n",
        "\n",
        "# Pipeline encoding untuk kolom kategorikal (One-Hot)\n",
        "categorical_transformer = OneHotEncoder(handle_unknown='ignore')\n",
        "\n",
        "# Pipeline scaling untuk kolom numerik (Standarisasi)\n",
        "numerical_transformer = StandardScaler()\n",
        "\n",
        "# Gabungkan semuanya dalam ColumnTransformer\n",
        "preprocessor = ColumnTransformer(\n",
        "    transformers=[\n",
        "        ('cat', categorical_transformer, categorical_cols),\n",
        "        ('num', numerical_transformer, numerical_cols)\n",
        "    ])"
      ]
    },
    {
      "cell_type": "markdown",
      "metadata": {
        "id": "mEjwpFqzbRlk"
      },
      "source": [
        "Fungsi utama dari `ColumnTransformer` dalam kode di atas adalah untuk menerapkan preprocessing yang berbeda ke kolom yang berbeda dalam satu langkah terintegrasi.\n",
        "\n",
        "Selain itu, berikut adalah keuntungan penggunaan `ColumnTransformer`, antara lain:\n",
        "1. Praktis & efisien: Tidak perlu melakukan encoding dan scaling secara manual satu per satu.\n",
        "2. Terintegrasi dalam pipeline: Bisa langsung digunakan dalam pipeline model machine learning (misalnya digabung dengan RandomForestClassifier).\n",
        "3. Aman terhadap kebocoran data (data leakage) saat digunakan bersama Pipeline dan train_test_split atau GridSearchCV.\n",
        "4. Menjaga urutan fitur: Output akan sesuai dengan urutan transformasi, memudahkan pelabelan kolom di akhir."
      ]
    },
    {
      "cell_type": "markdown",
      "metadata": {
        "id": "B6LlKo1savVD"
      },
      "source": [
        "Melakukan transformasi data menggunakan fit_transform() pada data X:\n",
        "1. `fit`: Belajar dari data (misalnya, nilai rata-rata & std untuk scaling).\n",
        "2. `transform`: Menerapkan transformasi ke seluruh dataset.\n",
        "\n",
        "Hasilnya adalah array NumPy yang merupakan gabungan dari hasil OneHot dan Scaling."
      ]
    },
    {
      "cell_type": "code",
      "execution_count": null,
      "metadata": {
        "id": "X-buGGLCPOpy"
      },
      "outputs": [],
      "source": [
        "# Transformasikan data X\n",
        "X_processed = preprocessor.fit_transform(X)"
      ]
    },
    {
      "cell_type": "markdown",
      "metadata": {
        "id": "k3mItE64bw2G"
      },
      "source": [
        "Selanjutnya yakni mengkonversi data agar dapat terlihat sebagai DataFrame."
      ]
    },
    {
      "cell_type": "code",
      "execution_count": null,
      "metadata": {
        "colab": {
          "base_uri": "https://localhost:8080/"
        },
        "id": "aPZ4yxNGPRIS",
        "outputId": "a480adcd-923a-45c1-de9c-9e3db70934f2"
      },
      "outputs": [
        {
          "name": "stdout",
          "output_type": "stream",
          "text": [
            "   Gender_Female  Gender_Male  Education Level_BA  Education Level_BSc  \\\n",
            "0            0.0          1.0                 0.0                  0.0   \n",
            "1            1.0          0.0                 0.0                  0.0   \n",
            "2            0.0          1.0                 0.0                  0.0   \n",
            "3            0.0          1.0                 1.0                  0.0   \n",
            "4            1.0          0.0                 0.0                  0.0   \n",
            "\n",
            "   Education Level_BTech  Education Level_Class 10  Education Level_Class 11  \\\n",
            "0                    0.0                       0.0                       0.0   \n",
            "1                    0.0                       0.0                       0.0   \n",
            "2                    1.0                       0.0                       0.0   \n",
            "3                    0.0                       0.0                       0.0   \n",
            "4                    0.0                       0.0                       1.0   \n",
            "\n",
            "   Education Level_Class 12  Education Level_Class 8  Education Level_Class 9  \\\n",
            "0                       0.0                      1.0                      0.0   \n",
            "1                       0.0                      0.0                      0.0   \n",
            "2                       0.0                      0.0                      0.0   \n",
            "3                       0.0                      0.0                      0.0   \n",
            "4                       0.0                      0.0                      0.0   \n",
            "\n",
            "   ...  Anxious Before Exams_Yes  Academic Performance Change_Declined  \\\n",
            "0  ...                       0.0                                   0.0   \n",
            "1  ...                       0.0                                   0.0   \n",
            "2  ...                       0.0                                   0.0   \n",
            "3  ...                       1.0                                   0.0   \n",
            "4  ...                       1.0                                   0.0   \n",
            "\n",
            "   Academic Performance Change_Improved  Academic Performance Change_Same  \\\n",
            "0                                   0.0                               1.0   \n",
            "1                                   0.0                               1.0   \n",
            "2                                   0.0                               1.0   \n",
            "3                                   0.0                               1.0   \n",
            "4                                   0.0                               1.0   \n",
            "\n",
            "   Age_binned_15-18  Age_binned_19-22  Age_binned_23-26  \\\n",
            "0               1.0               0.0               0.0   \n",
            "1               0.0               0.0               1.0   \n",
            "2               0.0               1.0               0.0   \n",
            "3               0.0               1.0               0.0   \n",
            "4               1.0               0.0               0.0   \n",
            "\n",
            "   Screen Time (hrs/day)  Sleep Duration (hrs)  Physical Activity (hrs/week)  \n",
            "0               0.057654              1.666802                      1.458783  \n",
            "1              -1.243969             -0.980787                     -1.636821  \n",
            "2               0.879731             -0.709240                      0.404237  \n",
            "3               1.325023             -0.573466                      0.166113  \n",
            "4              -1.415235             -0.709240                     -0.650310  \n",
            "\n",
            "[5 rows x 24 columns]\n"
          ]
        }
      ],
      "source": [
        "# Dapatkan nama kolom hasil OneHotEncoder\n",
        "ohe_columns = preprocessor.named_transformers_['cat'].get_feature_names_out(categorical_cols)\n",
        "\n",
        "# Gabungkan dengan kolom numerik\n",
        "all_feature_names = list(ohe_columns) + numerical_cols\n",
        "\n",
        "# Ubah X_processed menjadi DataFrame\n",
        "X_processed_df = pd.DataFrame(X_processed, columns=all_feature_names)\n",
        "\n",
        "# Tampilkan hasil\n",
        "print(X_processed_df.head())"
      ]
    },
    {
      "cell_type": "markdown",
      "metadata": {
        "id": "x4M4aDCSWjU3"
      },
      "source": [
        "# 6. Modeling & Evaluasi"
      ]
    },
    {
      "cell_type": "markdown",
      "metadata": {
        "id": "B1_tR4gEb7PG"
      },
      "source": [
        "Pada tahap ini, saya akan menggunakan Random Forest kembali untuk melihat hasil pelatihan prediksi data."
      ]
    },
    {
      "cell_type": "code",
      "execution_count": null,
      "metadata": {
        "colab": {
          "base_uri": "https://localhost:8080/"
        },
        "id": "Q_2Ecv1aPjwx",
        "outputId": "a37c4526-740e-415a-a93d-7ea59ec90c0e"
      },
      "outputs": [
        {
          "name": "stdout",
          "output_type": "stream",
          "text": [
            "Akurasi   : 0.9842\n",
            "Precision : 0.9890\n",
            "Recall    : 0.9783\n",
            "F1 Score  : 0.9836\n",
            "\n",
            "Laporan Klasifikasi:\n",
            "              precision    recall  f1-score   support\n",
            "\n",
            "           0       0.98      0.99      0.98        98\n",
            "           1       0.99      0.98      0.98        92\n",
            "\n",
            "    accuracy                           0.98       190\n",
            "   macro avg       0.98      0.98      0.98       190\n",
            "weighted avg       0.98      0.98      0.98       190\n",
            "\n",
            "Confusion Matrix:\n",
            "[[97  1]\n",
            " [ 2 90]]\n"
          ]
        }
      ],
      "source": [
        "# Split data\n",
        "X_train, X_test, y_train, y_test = train_test_split(X_processed, y, test_size=0.2, random_state=42, stratify=y)\n",
        "\n",
        "# Inisialisasi model\n",
        "model_rf = RandomForestClassifier(random_state=42)\n",
        "model_rf.fit(X_train, y_train)\n",
        "\n",
        "# Prediksi\n",
        "y_pred = model_rf.predict(X_test)\n",
        "\n",
        "# Evaluasi dengan metrik lengkap\n",
        "accuracy = accuracy_score(y_test, y_pred)\n",
        "precision = precision_score(y_test, y_pred, average='binary')\n",
        "recall = recall_score(y_test, y_pred, average='binary')\n",
        "f1 = f1_score(y_test, y_pred, average='binary')\n",
        "\n",
        "print(f\"Akurasi   : {accuracy:.4f}\")\n",
        "print(f\"Precision : {precision:.4f}\")\n",
        "print(f\"Recall    : {recall:.4f}\")\n",
        "print(f\"F1 Score  : {f1:.4f}\")\n",
        "\n",
        "# Laporan klasifikasi lengkap\n",
        "print(\"\\nLaporan Klasifikasi:\")\n",
        "print(classification_report(y_test, y_pred))\n",
        "\n",
        "# Confusion matrix\n",
        "print(\"Confusion Matrix:\")\n",
        "print(confusion_matrix(y_test, y_pred))"
      ]
    },
    {
      "cell_type": "markdown",
      "metadata": {
        "id": "3VBQ1dcGcqnw"
      },
      "source": [
        "# 7. Laporan Evaluasi Model: Prediksi Kesehatan Mental\n",
        "\n",
        "## Tujuan\n",
        "Model klasifikasi ini dikembangkan untuk memprediksi status **kesehatan mental siswa/mahasiswa** berdasarkan berbagai fitur seperti kebiasaan tidur, screen time, aktivitas fisik, dan lainnya.\n",
        "\n",
        "Target klasifikasi terdiri dari dua kelas:\n",
        "- `0` = **Sehat**\n",
        "- `1` = **Tidak sehat**\n",
        "\n",
        "---\n",
        "\n",
        "## Hasil Evaluasi Model\n",
        "\n",
        "| Metrik         | Nilai   | Penjelasan |\n",
        "|----------------|---------|------------|\n",
        "| **Akurasi**    | 0.9842  | 98.42% dari total prediksi adalah benar. |\n",
        "| **Precision**  | 0.9890  | Dari semua prediksi \"Tidak sehat\", 98.90% benar. |\n",
        "| **Recall**     | 0.9783  | Dari semua kasus sebenarnya \"Tidak sehat\", 97.83% berhasil dikenali. |\n",
        "| **F1 Score**   | 0.9836  | Harmoni antara precision dan recall, menunjukkan keseimbangan performa. |\n",
        "\n",
        "---\n",
        "\n",
        "## Laporan Klasifikasi Per Kelas\n",
        "\n",
        "| Kelas  | Precision | Recall | F1-Score | Support |\n",
        "|--------|-----------|--------|----------|---------|\n",
        "| **0** (Sehat)        | 0.98      | 0.99   | 0.98     | 98      |\n",
        "| **1** (Tidak Sehat)  | 0.99      | 0.98   | 0.98     | 92      |\n",
        "\n",
        "- **Support** adalah jumlah data aktual pada masing-masing kelas.\n",
        "- Model menunjukkan performa yang seimbang di kedua kelas tanpa indikasi bias.\n",
        "\n",
        "---\n",
        "\n",
        "## Confusion Matrix\n",
        "\n",
        "| Aktual \\ Prediksi | Sehat (0) | Tidak Sehat (1) |\n",
        "|-------------------|-----------|-----------------|\n",
        "| **Sehat (0)**     | 97        | 1 (False Positive) |\n",
        "| **Tidak Sehat (1)** | 2 (False Negative) | 90       |\n",
        "\n",
        "- Hanya terdapat **3 kesalahan klasifikasi dari 190 data**.\n",
        "- Tingkat kesalahan sangat rendah dan terdistribusi merata.\n",
        "\n",
        "---\n",
        "\n",
        "## Kesimpulan\n",
        "\n",
        "Model Random Forest menunjukkan performa **sangat baik** dalam memprediksi status kesehatan mental:\n",
        "- Sangat **akurasi tinggi** dan **seimbang** antara precision dan recall.\n",
        "- Cocok untuk diterapkan dalam sistem **pemantauan mental health**, seperti dashboard analitik, sistem alert, atau screening awal.\n",
        "\n",
        "---\n",
        "\n",
        "## Rekomendasi Lanjutan\n",
        "\n",
        "- **Uji coba di data eksternal** atau data real dari institusi berbeda untuk melihat generalisasi.\n",
        "- **Analisis feature importance** untuk memahami faktor-faktor dominan yang mempengaruhi prediksi.\n",
        "- Potensi integrasi ke aplikasi berbasis web dengan Streamlit atau sistem monitoring berbasis dashboard.\n",
        "\n",
        "\n",
        "\n",
        "\n"
      ]
    },
    {
      "cell_type": "code",
      "execution_count": null,
      "metadata": {
        "colab": {
          "base_uri": "https://localhost:8080/"
        },
        "id": "wT54_LrCOQvu",
        "outputId": "805396f7-7314-4984-9438-2b0c21960e12"
      },
      "outputs": [
        {
          "name": "stdout",
          "output_type": "stream",
          "text": [
            "<class 'pandas.core.frame.DataFrame'>\n",
            "RangeIndex: 950 entries, 0 to 949\n",
            "Data columns (total 24 columns):\n",
            " #   Column                                Non-Null Count  Dtype  \n",
            "---  ------                                --------------  -----  \n",
            " 0   Gender_Female                         950 non-null    float64\n",
            " 1   Gender_Male                           950 non-null    float64\n",
            " 2   Education Level_BA                    950 non-null    float64\n",
            " 3   Education Level_BSc                   950 non-null    float64\n",
            " 4   Education Level_BTech                 950 non-null    float64\n",
            " 5   Education Level_Class 10              950 non-null    float64\n",
            " 6   Education Level_Class 11              950 non-null    float64\n",
            " 7   Education Level_Class 12              950 non-null    float64\n",
            " 8   Education Level_Class 8               950 non-null    float64\n",
            " 9   Education Level_Class 9               950 non-null    float64\n",
            " 10  Education Level_MA                    950 non-null    float64\n",
            " 11  Education Level_MSc                   950 non-null    float64\n",
            " 12  Education Level_MTech                 950 non-null    float64\n",
            " 13  Anxious Before Exams_No               950 non-null    float64\n",
            " 14  Anxious Before Exams_Yes              950 non-null    float64\n",
            " 15  Academic Performance Change_Declined  950 non-null    float64\n",
            " 16  Academic Performance Change_Improved  950 non-null    float64\n",
            " 17  Academic Performance Change_Same      950 non-null    float64\n",
            " 18  Age_binned_15-18                      950 non-null    float64\n",
            " 19  Age_binned_19-22                      950 non-null    float64\n",
            " 20  Age_binned_23-26                      950 non-null    float64\n",
            " 21  Screen Time (hrs/day)                 950 non-null    float64\n",
            " 22  Sleep Duration (hrs)                  950 non-null    float64\n",
            " 23  Physical Activity (hrs/week)          950 non-null    float64\n",
            "dtypes: float64(24)\n",
            "memory usage: 178.3 KB\n"
          ]
        }
      ],
      "source": [
        "X_processed_df.info()"
      ]
    }
  ],
  "metadata": {
    "colab": {
      "gpuType": "T4",
      "provenance": []
    },
    "kernelspec": {
      "display_name": "Python 3",
      "name": "python3"
    },
    "language_info": {
      "name": "python"
    }
  },
  "nbformat": 4,
  "nbformat_minor": 0
}
